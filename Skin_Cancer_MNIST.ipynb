{
  "nbformat": 4,
  "nbformat_minor": 0,
  "metadata": {
    "colab": {
      "name": "Skin_Cancer_MNIST.ipynb",
      "provenance": [],
      "authorship_tag": "ABX9TyPUwZ0JxUq1FJi62umVyh8q",
      "include_colab_link": true
    },
    "kernelspec": {
      "name": "python3",
      "display_name": "Python 3"
    }
  },
  "cells": [
    {
      "cell_type": "markdown",
      "metadata": {
        "id": "view-in-github",
        "colab_type": "text"
      },
      "source": [
        "<a href=\"https://colab.research.google.com/github/Jarmos-san/Skin-Cancer-MNIST/blob/master/Skin_Cancer_MNIST.ipynb\" target=\"_parent\"><img src=\"https://colab.research.google.com/assets/colab-badge.svg\" alt=\"Open In Colab\"/></a>"
      ]
    },
    {
      "cell_type": "markdown",
      "metadata": {
        "id": "gYaiJ4h8F0Zo",
        "colab_type": "text"
      },
      "source": [
        "# Notebook Setup"
      ]
    },
    {
      "cell_type": "code",
      "metadata": {
        "id": "rGw_Q4JByFS2",
        "colab_type": "code",
        "colab": {}
      },
      "source": [
        "# Upload the downloaded kaggle.json file\n",
        "from google.colab import files\n",
        "import time\n",
        "\n",
        "uploaded = files.upload()\n",
        "\n",
        "for fn in uploaded.keys():\n",
        "  print(f'User uploaded file \"{fn}\" with length {len(uploaded[fn])} bytes')"
      ],
      "execution_count": 0,
      "outputs": []
    },
    {
      "cell_type": "code",
      "metadata": {
        "id": "ksCwZ9MQ_iYC",
        "colab_type": "code",
        "colab": {
          "base_uri": "https://localhost:8080/",
          "height": 35
        },
        "outputId": "99eec525-35c8-4393-d39e-95bba4ad9bf9"
      },
      "source": [
        "# Copy the kaggle.json file to the suggested dir\n",
        "!mv /content/kaggle.json /root/.kaggle/kaggle.json\n",
        "\n",
        "# Secure access to the kaggle.json file\n",
        "!chmod 600 /root/.kaggle/kaggle.json\n",
        "\n",
        "# Remove unecessary dir & files\n",
        "!rm -rf /content/sample_data\n",
        "\n",
        "# Check if the Kaggle CLI works fine or not\n",
        "!kaggle --version"
      ],
      "execution_count": 4,
      "outputs": [
        {
          "output_type": "stream",
          "text": [
            "Kaggle API 1.5.4\n"
          ],
          "name": "stdout"
        }
      ]
    },
    {
      "cell_type": "code",
      "metadata": {
        "id": "rjrxvEM7F4uA",
        "colab_type": "code",
        "colab": {
          "base_uri": "https://localhost:8080/",
          "height": 72
        },
        "outputId": "7973598c-59cd-40f1-e9da-00b93a541905"
      },
      "source": [
        "# Download the zipped file from Kaggle\n",
        "!kaggle datasets download kmader/skin-cancer-mnist-ham10000\n",
        "\n",
        "# Unzip downloaded folder to /content dir\n",
        "!unzip /content/skin-cancer-mnist-ham10000.zip\n",
        "\n",
        "# remove downloaded zipped folder\n",
        "!rm /content/skin-cancer-mnist-ham10000.zip"
      ],
      "execution_count": 10,
      "outputs": [
        {
          "output_type": "stream",
          "text": [
            "Downloading skin-cancer-mnist-ham10000.zip to /content\n",
            "100% 5.19G/5.20G [01:13<00:00, 77.9MB/s]\n",
            "100% 5.20G/5.20G [01:13<00:00, 76.0MB/s]\n"
          ],
          "name": "stdout"
        }
      ]
    }
  ]
}